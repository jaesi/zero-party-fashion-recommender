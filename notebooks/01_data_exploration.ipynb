{
 "cells": [
  {
   "cell_type": "markdown",
   "metadata": {},
   "source": [
    "# Fashion Survey Data Exploration\n",
    "\n",
    "This notebook explores the fashion survey data to understand patterns in sock preferences based on demographics, personality traits (MBTI), and fashion attitudes."
   ]
  },
  {
   "cell_type": "code",
   "execution_count": null,
   "metadata": {},
   "outputs": [],
   "source": [
    "import numpy as np\n",
    "import pandas as pd\n",
    "import matplotlib.pyplot as plt\n",
    "import seaborn as sns\n",
    "import warnings\n",
    "\n",
    "warnings.filterwarnings('ignore')\n",
    "pd.set_option('display.max_columns', None)\n",
    "\n",
    "# Set plot style\n",
    "sns.set_style('whitegrid')\n",
    "plt.rcParams['figure.figsize'] = (12, 6)"
   ]
  },
  {
   "cell_type": "markdown",
   "metadata": {},
   "source": [
    "## Load Data\n",
    "\n",
    "We'll load the integrated dataset that contains both achromatic and chromatic sock preferences."
   ]
  },
  {
   "cell_type": "code",
   "execution_count": null,
   "metadata": {},
   "outputs": [],
   "source": [
    "# Load the integrated dataset\n",
    "df = pd.read_csv('../data/raw/fashion_survey_integrated.csv')\n",
    "\n",
    "print(f\"Dataset shape: {df.shape}\")\n",
    "print(f\"\\nColumns: {list(df.columns)}\")\n",
    "df.head()"
   ]
  },
  {
   "cell_type": "markdown",
   "metadata": {},
   "source": [
    "## Data Overview"
   ]
  },
  {
   "cell_type": "code",
   "execution_count": null,
   "metadata": {},
   "outputs": [],
   "source": [
    "# Check for missing values\n",
    "print(\"Missing values:\")\n",
    "print(df.isnull().sum())\n",
    "\n",
    "print(\"\\nData types:\")\n",
    "print(df.dtypes)\n",
    "\n",
    "print(\"\\nBasic statistics:\")\n",
    "df.describe()"
   ]
  },
  {
   "cell_type": "markdown",
   "metadata": {},
   "source": [
    "## Demographics Distribution"
   ]
  },
  {
   "cell_type": "code",
   "execution_count": null,
   "metadata": {},
   "outputs": [],
   "source": [
    "fig, axes = plt.subplots(1, 3, figsize=(15, 4))\n",
    "\n",
    "# Gender distribution\n",
    "gender_counts = df['gender'].value_counts()\n",
    "axes[0].bar(['Male', 'Female'], gender_counts.values)\n",
    "axes[0].set_title('Gender Distribution')\n",
    "axes[0].set_ylabel('Count')\n",
    "\n",
    "# Age distribution\n",
    "axes[1].hist(df['age'], bins=20, edgecolor='black')\n",
    "axes[1].set_title('Age Distribution')\n",
    "axes[1].set_xlabel('Age')\n",
    "axes[1].set_ylabel('Count')\n",
    "\n",
    "# Target group distribution\n",
    "target_counts = df['target_group'].value_counts().sort_index()\n",
    "axes[2].bar(target_counts.index, target_counts.values)\n",
    "axes[2].set_title('Target Group Distribution')\n",
    "axes[2].set_xlabel('Target Group')\n",
    "axes[2].set_ylabel('Count')\n",
    "axes[2].set_xticks(range(1, 5))\n",
    "\n",
    "plt.tight_layout()\n",
    "plt.show()"
   ]
  },
  {
   "cell_type": "markdown",
   "metadata": {},
   "source": [
    "## MBTI Distribution"
   ]
  },
  {
   "cell_type": "code",
   "execution_count": null,
   "metadata": {},
   "outputs": [],
   "source": [
    "# MBTI type distribution\n",
    "mbti_cols = ['mbti_e_i', 'mbti_s_n', 'mbti_t_f', 'mbti_j_p']\n",
    "mbti_labels = ['E/I', 'S/N', 'T/F', 'J/P']\n",
    "\n",
    "fig, axes = plt.subplots(2, 2, figsize=(12, 8))\n",
    "axes = axes.flatten()\n",
    "\n",
    "for i, (col, label) in enumerate(zip(mbti_cols, mbti_labels)):\n",
    "    counts = df[col].value_counts().sort_index()\n",
    "    axes[i].bar([label.split('/')[1], label.split('/')[0]], counts.values)\n",
    "    axes[i].set_title(f'MBTI: {label}')\n",
    "    axes[i].set_ylabel('Count')\n",
    "\n",
    "plt.tight_layout()\n",
    "plt.show()"
   ]
  },
  {
   "cell_type": "markdown",
   "metadata": {},
   "source": [
    "## Fashion Attitudes"
   ]
  },
  {
   "cell_type": "code",
   "execution_count": null,
   "metadata": {},
   "outputs": [],
   "source": [
    "# Fashion attitude scores\n",
    "attitude_cols = [\n",
    "    'individuality_orientation',\n",
    "    'ostentation_orientation',\n",
    "    'sports_orientation',\n",
    "    'clothing_practicality',\n",
    "    'clothing_appearance',\n",
    "    'fashion_involvement'\n",
    "]\n",
    "\n",
    "df[attitude_cols].boxplot(figsize=(14, 6))\n",
    "plt.title('Fashion Attitude Distributions')\n",
    "plt.ylabel('Score')\n",
    "plt.xticks(rotation=45, ha='right')\n",
    "plt.tight_layout()\n",
    "plt.show()"
   ]
  },
  {
   "cell_type": "markdown",
   "metadata": {},
   "source": [
    "## Sock Preference Analysis"
   ]
  },
  {
   "cell_type": "code",
   "execution_count": null,
   "metadata": {},
   "outputs": [],
   "source": [
    "# Achromatic sock preferences\n",
    "achromatic_cols = [col for col in df.columns if 'achromatic_sock_' in col]\n",
    "achromatic_prefs = df[achromatic_cols]\n",
    "\n",
    "print(\"Achromatic Sock Preference Summary:\")\n",
    "print(f\"Number of options: {len(achromatic_cols)}\")\n",
    "print(f\"\\nRanking frequency (non-zero):\")\n",
    "for col in achromatic_cols:\n",
    "    non_zero = (achromatic_prefs[col] > 0).sum()\n",
    "    print(f\"  {col}: {non_zero} respondents ({non_zero/len(df)*100:.1f}%)\")"
   ]
  },
  {
   "cell_type": "code",
   "execution_count": null,
   "metadata": {},
   "outputs": [],
   "source": [
    "# Chromatic sock preferences\n",
    "color_cols = [col for col in df.columns if 'color_sock_' in col]\n",
    "color_prefs = df[color_cols]\n",
    "\n",
    "print(\"Chromatic Sock Preference Summary:\")\n",
    "print(f\"Number of options: {len(color_cols)}\")\n",
    "print(f\"\\nRanking frequency (non-zero):\")\n",
    "for col in color_cols:\n",
    "    non_zero = (color_prefs[col] > 0).sum()\n",
    "    print(f\"  {col}: {non_zero} respondents ({non_zero/len(df)*100:.1f}%)\")"
   ]
  },
  {
   "cell_type": "markdown",
   "metadata": {},
   "source": [
    "## Correlation Analysis"
   ]
  },
  {
   "cell_type": "code",
   "execution_count": null,
   "metadata": {},
   "outputs": [],
   "source": [
    "# Select key features for correlation\n",
    "key_features = [\n",
    "    'age', 'gender',\n",
    "    'individuality_orientation', 'ostentation_orientation',\n",
    "    'sports_orientation', 'clothing_practicality',\n",
    "    'clothing_appearance', 'fashion_involvement',\n",
    "    'target_group'\n",
    "]\n",
    "\n",
    "correlation_matrix = df[key_features].corr()\n",
    "\n",
    "plt.figure(figsize=(12, 10))\n",
    "sns.heatmap(correlation_matrix, annot=True, fmt='.2f', cmap='coolwarm', center=0)\n",
    "plt.title('Correlation Matrix of Key Features')\n",
    "plt.tight_layout()\n",
    "plt.show()"
   ]
  },
  {
   "cell_type": "markdown",
   "metadata": {},
   "source": [
    "## Target Group Characteristics"
   ]
  },
  {
   "cell_type": "code",
   "execution_count": null,
   "metadata": {},
   "outputs": [],
   "source": [
    "# Compare fashion attitudes across target groups\n",
    "attitude_cols = [\n",
    "    'individuality_orientation',\n",
    "    'ostentation_orientation',\n",
    "    'sports_orientation',\n",
    "    'fashion_involvement'\n",
    "]\n",
    "\n",
    "fig, axes = plt.subplots(2, 2, figsize=(14, 10))\n",
    "axes = axes.flatten()\n",
    "\n",
    "for i, col in enumerate(attitude_cols):\n",
    "    df.boxplot(column=col, by='target_group', ax=axes[i])\n",
    "    axes[i].set_title(col.replace('_', ' ').title())\n",
    "    axes[i].set_xlabel('Target Group')\n",
    "    axes[i].set_ylabel('Score')\n",
    "\n",
    "plt.suptitle('Fashion Attitudes by Target Group', y=1.02, fontsize=14)\n",
    "plt.tight_layout()\n",
    "plt.show()"
   ]
  },
  {
   "cell_type": "markdown",
   "metadata": {},
   "source": [
    "## Summary\n",
    "\n",
    "Key findings from the data exploration:\n",
    "\n",
    "1. **Demographics**: The dataset has a balanced distribution across age groups with slight female majority\n",
    "2. **MBTI**: Personality types show expected distributions from population studies\n",
    "3. **Fashion Attitudes**: Fashion involvement and clothing practicality are generally high\n",
    "4. **Sock Preferences**: Both achromatic and chromatic options have varied preferences\n",
    "5. **Target Groups**: Four distinct groups emerge based on color and style preferences\n",
    "\n",
    "These patterns will inform our recommendation model development."
   ]
  }
 ],
 "metadata": {
  "kernelspec": {
   "display_name": "Python 3",
   "language": "python",
   "name": "python3"
  },
  "language_info": {
   "codemirror_mode": {
    "name": "ipython",
    "version": 3
   },
   "file_extension": ".py",
   "mimetype": "text/x-python",
   "name": "python",
   "nbconvert_exporter": "python",
   "pygments_lexer": "ipython3",
   "version": "3.8.0"
  }
 },
 "nbformat": 4,
 "nbformat_minor": 4
}
