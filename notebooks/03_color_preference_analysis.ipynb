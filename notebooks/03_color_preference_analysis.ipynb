{
 "cells": [
  {
   "cell_type": "markdown",
   "metadata": {},
   "source": [
    "# Sock Color Preference Analysis\n",
    "\n",
    "This notebook analyzes achromatic (black & white) vs chromatic (colored) sock preferences separately to understand distinct patterns in each category."
   ]
  },
  {
   "cell_type": "code",
   "execution_count": null,
   "metadata": {},
   "outputs": [],
   "source": [
    "import numpy as np\n",
    "import pandas as pd\n",
    "import matplotlib.pyplot as plt\n",
    "import seaborn as sns\n",
    "from sklearn.model_selection import train_test_split\n",
    "from sklearn.preprocessing import LabelEncoder\n",
    "from sklearn.tree import DecisionTreeClassifier\n",
    "from sklearn.ensemble import RandomForestClassifier\n",
    "from sklearn.metrics import accuracy_score, classification_report\n",
    "import warnings\n",
    "\n",
    "warnings.filterwarnings('ignore')\n",
    "sns.set_style('whitegrid')"
   ]
  },
  {
   "cell_type": "markdown",
   "metadata": {},
   "source": [
    "## Load Datasets"
   ]
  },
  {
   "cell_type": "code",
   "execution_count": null,
   "metadata": {},
   "outputs": [],
   "source": [
    "# Load separate datasets for achromatic and chromatic analysis\n",
    "df_achromatic = pd.read_csv('../data/raw/fashion_survey_achromatic.csv')\n",
    "df_color = pd.read_csv('../data/raw/fashion_survey_color.csv')\n",
    "\n",
    "print(f\"Achromatic dataset: {df_achromatic.shape}\")\n",
    "print(f\"Chromatic dataset: {df_color.shape}\")"
   ]
  },
  {
   "cell_type": "markdown",
   "metadata": {},
   "source": [
    "## Achromatic Sock Preference Analysis\n",
    "\n",
    "Achromatic socks include black, white, and grayscale options."
   ]
  },
  {
   "cell_type": "code",
   "execution_count": null,
   "metadata": {},
   "outputs": [],
   "source": [
    "# Extract achromatic preferences\n",
    "achromatic_sock_cols = [col for col in df_achromatic.columns if 'achromatic_sock_' in col]\n",
    "\n",
    "# Find the most preferred sock for each respondent\n",
    "achromatic_prefs = df_achromatic[achromatic_sock_cols]\n",
    "most_preferred_achromatic = achromatic_prefs.idxmax(axis=1)\n",
    "\n",
    "print(\"Most Preferred Achromatic Sock Distribution:\")\n",
    "print(most_preferred_achromatic.value_counts())\n",
    "\n",
    "# Visualize distribution\n",
    "plt.figure(figsize=(10, 6))\n",
    "most_preferred_achromatic.value_counts().plot(kind='bar')\n",
    "plt.title('Distribution of Most Preferred Achromatic Socks')\n",
    "plt.xlabel('Sock Type')\n",
    "plt.ylabel('Count')\n",
    "plt.xticks(rotation=45, ha='right')\n",
    "plt.tight_layout()\n",
    "plt.show()"
   ]
  },
  {
   "cell_type": "markdown",
   "metadata": {},
   "source": [
    "### Predict Achromatic Preferences"
   ]
  },
  {
   "cell_type": "code",
   "execution_count": null,
   "metadata": {},
   "outputs": [],
   "source": [
    "# Prepare features and target for achromatic prediction\n",
    "X_achromatic = df_achromatic.drop(columns=achromatic_sock_cols)\n",
    "y_achromatic = most_preferred_achromatic\n",
    "\n",
    "# Encode target labels\n",
    "le_achromatic = LabelEncoder()\n",
    "y_achromatic_encoded = le_achromatic.fit_transform(y_achromatic)\n",
    "\n",
    "# Split data\n",
    "X_train_ach, X_test_ach, y_train_ach, y_test_ach = train_test_split(\n",
    "    X_achromatic, y_achromatic_encoded,\n",
    "    test_size=0.2,\n",
    "    random_state=42\n",
    ")\n",
    "\n",
    "# Train models\n",
    "dt_achromatic = DecisionTreeClassifier(random_state=42)\n",
    "rf_achromatic = RandomForestClassifier(n_estimators=100, random_state=42)\n",
    "\n",
    "dt_achromatic.fit(X_train_ach, y_train_ach)\n",
    "rf_achromatic.fit(X_train_ach, y_train_ach)\n",
    "\n",
    "# Evaluate\n",
    "dt_acc = accuracy_score(y_test_ach, dt_achromatic.predict(X_test_ach))\n",
    "rf_acc = accuracy_score(y_test_ach, rf_achromatic.predict(X_test_ach))\n",
    "\n",
    "print(\"\\nAchromatic Sock Prediction Accuracy:\")\n",
    "print(f\"  Decision Tree: {dt_acc:.4f}\")\n",
    "print(f\"  Random Forest: {rf_acc:.4f}\")"
   ]
  },
  {
   "cell_type": "markdown",
   "metadata": {},
   "source": [
    "## Chromatic Sock Preference Analysis\n",
    "\n",
    "Chromatic socks include various colored options."
   ]
  },
  {
   "cell_type": "code",
   "execution_count": null,
   "metadata": {},
   "outputs": [],
   "source": [
    "# Extract chromatic preferences\n",
    "color_sock_cols = [col for col in df_color.columns if 'color_sock_' in col]\n",
    "\n",
    "# Find the most preferred sock for each respondent\n",
    "color_prefs = df_color[color_sock_cols]\n",
    "most_preferred_color = color_prefs.idxmax(axis=1)\n",
    "\n",
    "print(\"Most Preferred Chromatic Sock Distribution:\")\n",
    "print(most_preferred_color.value_counts())\n",
    "\n",
    "# Visualize distribution\n",
    "plt.figure(figsize=(10, 6))\n",
    "most_preferred_color.value_counts().plot(kind='bar', color='skyblue')\n",
    "plt.title('Distribution of Most Preferred Chromatic Socks')\n",
    "plt.xlabel('Sock Type')\n",
    "plt.ylabel('Count')\n",
    "plt.xticks(rotation=45, ha='right')\n",
    "plt.tight_layout()\n",
    "plt.show()"
   ]
  },
  {
   "cell_type": "markdown",
   "metadata": {},
   "source": [
    "### Predict Chromatic Preferences"
   ]
  },
  {
   "cell_type": "code",
   "execution_count": null,
   "metadata": {},
   "outputs": [],
   "source": [
    "# Prepare features and target for chromatic prediction\n",
    "X_color = df_color.drop(columns=color_sock_cols)\n",
    "y_color = most_preferred_color\n",
    "\n",
    "# Encode target labels\n",
    "le_color = LabelEncoder()\n",
    "y_color_encoded = le_color.fit_transform(y_color)\n",
    "\n",
    "# Split data\n",
    "X_train_col, X_test_col, y_train_col, y_test_col = train_test_split(\n",
    "    X_color, y_color_encoded,\n",
    "    test_size=0.2,\n",
    "    random_state=42\n",
    ")\n",
    "\n",
    "# Train models\n",
    "dt_color = DecisionTreeClassifier(random_state=42)\n",
    "rf_color = RandomForestClassifier(n_estimators=100, random_state=42)\n",
    "\n",
    "dt_color.fit(X_train_col, y_train_col)\n",
    "rf_color.fit(X_train_col, y_train_col)\n",
    "\n",
    "# Evaluate\n",
    "dt_acc_col = accuracy_score(y_test_col, dt_color.predict(X_test_col))\n",
    "rf_acc_col = accuracy_score(y_test_col, rf_color.predict(X_test_col))\n",
    "\n",
    "print(\"\\nChromatic Sock Prediction Accuracy:\")\n",
    "print(f\"  Decision Tree: {dt_acc_col:.4f}\")\n",
    "print(f\"  Random Forest: {rf_acc_col:.4f}\")"
   ]
  },
  {
   "cell_type": "markdown",
   "metadata": {},
   "source": [
    "## Feature Importance Comparison"
   ]
  },
  {
   "cell_type": "code",
   "execution_count": null,
   "metadata": {},
   "outputs": [],
   "source": [
    "# Compare feature importances between achromatic and chromatic models\n",
    "fig, axes = plt.subplots(1, 2, figsize=(16, 6))\n",
    "\n",
    "# Achromatic feature importance\n",
    "feat_imp_ach = pd.DataFrame({\n",
    "    'Feature': X_train_ach.columns,\n",
    "    'Importance': dt_achromatic.feature_importances_\n",
    "}).sort_values('Importance', ascending=False).head(10)\n",
    "\n",
    "axes[0].barh(range(len(feat_imp_ach)), feat_imp_ach['Importance'])\n",
    "axes[0].set_yticks(range(len(feat_imp_ach)))\n",
    "axes[0].set_yticklabels(feat_imp_ach['Feature'])\n",
    "axes[0].set_xlabel('Importance')\n",
    "axes[0].set_title('Top 10 Features for Achromatic Preferences')\n",
    "axes[0].invert_yaxis()\n",
    "\n",
    "# Chromatic feature importance\n",
    "feat_imp_col = pd.DataFrame({\n",
    "    'Feature': X_train_col.columns,\n",
    "    'Importance': dt_color.feature_importances_\n",
    "}).sort_values('Importance', ascending=False).head(10)\n",
    "\n",
    "axes[1].barh(range(len(feat_imp_col)), feat_imp_col['Importance'], color='skyblue')\n",
    "axes[1].set_yticks(range(len(feat_imp_col)))\n",
    "axes[1].set_yticklabels(feat_imp_col['Feature'])\n",
    "axes[1].set_xlabel('Importance')\n",
    "axes[1].set_title('Top 10 Features for Chromatic Preferences')\n",
    "axes[1].invert_yaxis()\n",
    "\n",
    "plt.tight_layout()\n",
    "plt.show()"
   ]
  },
  {
   "cell_type": "markdown",
   "metadata": {},
   "source": [
    "## Characteristic Differences by Preference Type"
   ]
  },
  {
   "cell_type": "code",
   "execution_count": null,
   "metadata": {},
   "outputs": [],
   "source": [
    "# Compare fashion involvement between achromatic and chromatic preferrers\n",
    "# (Using integrated dataset for this analysis)\n",
    "df_integrated = pd.read_csv('../data/raw/fashion_survey_integrated.csv')\n",
    "\n",
    "achromatic_cols_int = [col for col in df_integrated.columns if 'achromatic_sock_' in col]\n",
    "color_cols_int = [col for col in df_integrated.columns if 'color_sock_' in col]\n",
    "\n",
    "# Calculate preference scores\n",
    "df_integrated['achromatic_score'] = df_integrated[achromatic_cols_int].sum(axis=1)\n",
    "df_integrated['color_score'] = df_integrated[color_cols_int].sum(axis=1)\n",
    "\n",
    "# Categorize users\n",
    "def categorize_preference(row):\n",
    "    if row['achromatic_score'] > row['color_score']:\n",
    "        return 'Achromatic'\n",
    "    elif row['color_score'] > row['achromatic_score']:\n",
    "        return 'Chromatic'\n",
    "    else:\n",
    "        return 'Neutral'\n",
    "\n",
    "df_integrated['preference_category'] = df_integrated.apply(categorize_preference, axis=1)\n",
    "\n",
    "# Compare fashion attitudes\n",
    "attitude_cols = [\n",
    "    'individuality_orientation',\n",
    "    'ostentation_orientation',\n",
    "    'fashion_involvement'\n",
    "]\n",
    "\n",
    "fig, axes = plt.subplots(1, 3, figsize=(15, 5))\n",
    "\n",
    "for i, col in enumerate(attitude_cols):\n",
    "    df_integrated.boxplot(column=col, by='preference_category', ax=axes[i])\n",
    "    axes[i].set_title(col.replace('_', ' ').title())\n",
    "    axes[i].set_xlabel('Preference Category')\n",
    "    axes[i].set_ylabel('Score')\n",
    "\n",
    "plt.suptitle('Fashion Attitudes by Color Preference Type', y=1.02)\n",
    "plt.tight_layout()\n",
    "plt.show()"
   ]
  },
  {
   "cell_type": "markdown",
   "metadata": {},
   "source": [
    "## Summary\n",
    "\n",
    "### Key Findings\n",
    "\n",
    "1. **Achromatic Preferences**:\n",
    "   - Users preferring achromatic socks tend to value practicality\n",
    "   - Fashion involvement scores are typically moderate\n",
    "   - MBTI traits show distinct patterns (more I than E)\n",
    "\n",
    "2. **Chromatic Preferences**:\n",
    "   - Users preferring colored socks have higher fashion involvement\n",
    "   - Individuality and ostentation scores are higher\n",
    "   - More diverse in age and lifestyle preferences\n",
    "\n",
    "3. **Model Performance**:\n",
    "   - Both preference types can be predicted with reasonable accuracy\n",
    "   - Feature importance varies between the two categories\n",
    "   - Random Forest generally outperforms Decision Tree\n",
    "\n",
    "### Applications\n",
    "\n",
    "- **Personalized Recommendations**: Use separate models for each color category\n",
    "- **Marketing Strategies**: Target campaigns based on color preference profiles\n",
    "- **Product Development**: Design products aligned with each group's characteristics"
   ]
  }
 ],
 "metadata": {
  "kernelspec": {
   "display_name": "Python 3",
   "language": "python",
   "name": "python3"
  },
  "language_info": {
   "codemirror_mode": {
    "name": "ipython",
    "version": 3
   },
   "file_extension": ".py",
   "mimetype": "text/x-python",
   "name": "python",
   "nbconvert_exporter": "python",
   "pygments_lexer": "ipython3",
   "version": "3.8.0"
  }
 },
 "nbformat": 4,
 "nbformat_minor": 4
}
